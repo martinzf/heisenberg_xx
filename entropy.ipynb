{
 "cells": [
  {
   "cell_type": "code",
   "execution_count": 2,
   "metadata": {},
   "outputs": [],
   "source": [
    "import numpy as np\n",
    "import matplotlib.pyplot as plt"
   ]
  },
  {
   "cell_type": "markdown",
   "metadata": {},
   "source": [
    "### 1. Entanglement entropy"
   ]
  },
  {
   "cell_type": "markdown",
   "metadata": {},
   "source": [
    "### 2. Homogeneous XX chain\n",
    "\n",
    "The homogeneous chain studied in [1] has $J_n=J\\in\\mathbb{R}$, $h_n=h\\in\\mathbb{R}$. If we considered periodic boundary conditions, the system would be invariant under translations (all sites on the chain look the same). Translational invariance would imply momentum conservation, therefore we should work in the momentum (Fourier) basis.\n",
    "\n",
    "$$\n",
    "\\tilde{a}_k = \\frac{1}{\\sqrt{N}}\\sum\\limits_{n=0}^{N-1} a_n e^{-i\\frac{2\\pi}{N}nk}\n",
    "$$\n",
    "\n",
    "So $E=\\Phi^\\dagger H^1\\Phi$, with the diagonalisation being $\\Phi_{nk}=\\frac{1}{\\sqrt{N}}e^{-i\\frac{2\\pi}{N}nk}$. Let's naively apply this diagonalisation to the $H^1$ matrix with free boundary conditions:\n",
    "\n",
    "$$\n",
    "\\sum\\limits_{n=0}^{N-1}\\sum\\limits_{m=0}^{N-1}\\Phi^\\dagger_{jn} H^1_{nm} \\Phi_{mk} = \n",
    "\\frac{1}{N}\\sum\\limits_{n=0}^{N-1}\\sum\\limits_{m=0}^{N-1}e^{i\\frac{2\\pi}{N}jn}e^{-i\\frac{2\\pi}{N}mk}(J\\delta_{n+1,m}+J\\delta_{n-1,m}+h\\delta_{nm}) =\n",
    "$$\n",
    "\n",
    "$$\n",
    "= \\frac{1}{N}\\left(\n",
    "(e^{i\\frac{2\\pi}{N}k}+e^{-i\\frac{2\\pi}{N}k})J\\sum\\limits_{n=0}^{N-2}e^{i\\frac{2\\pi}{N}n(j-k)}+\n",
    "h\\sum\\limits_{n=0}^{N-1}e^{i\\frac{2\\pi}{N}n(j-k)}\n",
    "\\right) =\n",
    "$$\n",
    "\n",
    "$$\n",
    "= \\left(2\\cos\\left(\\frac{2\\pi k}{N}\\right)J+h\\right)\\delta_{jk}+ o\\left(\\frac{1}{N}\\right)\n",
    "$$\n",
    "\n",
    "$$\n",
    "\\boxed{\n",
    "\\begin{aligned}\n",
    "    H&\\approx\\sum\\limits_{n=0}^{N-1}\\varepsilon_n\\tilde{a}^\\dagger_n\\tilde{a}_n, &\n",
    "    \\varepsilon_n&\\approx2\\cos\\left(\\frac{2\\pi n}{N}\\right)J+h\n",
    "\\end{aligned}\n",
    "}\n",
    "$$\n",
    "\n",
    "The diagonalisation still works in the thermodynamic limit, when $N\\rightarrow\\infty$."
   ]
  },
  {
   "cell_type": "code",
   "execution_count": null,
   "metadata": {},
   "outputs": [],
   "source": [
    "# Numerical test"
   ]
  },
  {
   "cell_type": "markdown",
   "metadata": {},
   "source": [
    "We can now easily find the ground state. It will have one particle at each site that $\\varepsilon_n$ is negative, therefore there are only particles where\n",
    "\n",
    "$$\n",
    "- \\left(\\frac{h}{J}\\right) > 2\\cos\\left(\\frac{2\\pi n}{N}\\right)\n",
    "$$\n",
    "\n",
    "Or, in other words\n",
    "\n",
    "$$\n",
    "\\begin{aligned}\n",
    "n_c \\leq n \\leq N - n_c, & & n_c &= \\left\\lceil\\frac{N}{2\\pi}\\arccos\\left(\\frac{-h}{2J} \\right)\\right\\rceil\n",
    "\\end{aligned}\n",
    "$$\n",
    "\n",
    "We therefore realise that if $h/J>2$ (the magnetic field is strong), the ground state is the vacuum $|0\\rangle$ (all spins up)."
   ]
  },
  {
   "cell_type": "code",
   "execution_count": 43,
   "metadata": {},
   "outputs": [
    {
     "data": {
      "text/plain": [
       "<matplotlib.legend.Legend at 0x2aa2e1205d0>"
      ]
     },
     "execution_count": 43,
     "metadata": {},
     "output_type": "execute_result"
    },
    {
     "data": {
      "image/png": "[encoded data removed]",
      "text/plain": [
       "<Figure size 640x480 with 1 Axes>"
      ]
     },
     "metadata": {},
     "output_type": "display_data"
    }
   ],
   "source": [
    "# Let's see the implications\n",
    "N = 50\n",
    "J = 2\n",
    "h = 1\n",
    "\n",
    "nc = int(np.ceil(N * np.arccos(- h / (2*J)) / (2 * np.pi)))\n",
    "n = np.linspace(0, N-1, N)\n",
    "osc = 2 * np.cos(2 * np.pi * n / N)\n",
    "plt.plot(n, osc, '.')\n",
    "plt.plot([0, N], [-h/J, -h/J], ':')\n",
    "plt.fill_between(n[nc:N-nc+1], osc[nc:N-nc+1], - h / J, alpha=.5)\n",
    "plt.xlabel('n')\n",
    "plt.ylabel('E / J')\n",
    "plt.legend(['$2\\cos(2\\pi n/N)$', '- h / J', 'Excited modes'])"
   ]
  },
  {
   "cell_type": "markdown",
   "metadata": {},
   "source": [
    "### 3. General case\n",
    "\n",
    "According to ref. [3] \n",
    "\n",
    "$$\n",
    "\\mathrm{d}s^2 = J(x)^2 \\mathrm{d}t^2 - \\mathrm{d}x^2\n",
    "$$"
   ]
  },
  {
   "cell_type": "markdown",
   "metadata": {},
   "source": [
    "### References\n",
    "\n",
    "[1] Latorre, J., & Riera, A. (2009). A short review on entanglement in quantum spin systems. *Journal of Physics A: Mathematical and Theoretical, 42(50), 504002*. Retrieved from https://arxiv.org/abs/0906.1499\n",
    "\n",
    "[2] Finkel, F., & González-López, A. (2020). Inhomogeneous XX spin chains and quasi-exactly solvable models. *Journal of Statistical Mechanics: Theory and Experiment, 2020(9), 093105*. Retrieved from https://arxiv.org/abs/2007.00369\n",
    "\n",
    "[3] Finkel, F., & González-López, A. (2021). Entanglement entropy of inhomogeneous XX spin chains with algebraic interactions. *Journal of High Energy Physics, 2021(12)*. Retrieved from https://arxiv.org/abs/2107.12200"
   ]
  }
 ],
 "metadata": {
  "kernelspec": {
   "display_name": "venv",
   "language": "python",
   "name": "python3"
  },
  "language_info": {
   "codemirror_mode": {
    "name": "ipython",
    "version": 3
   },
   "file_extension": ".py",
   "mimetype": "text/x-python",
   "name": "python",
   "nbconvert_exporter": "python",
   "pygments_lexer": "ipython3",
   "version": "3.11.0"
  }
 },
 "nbformat": 4,
 "nbformat_minor": 2
}
