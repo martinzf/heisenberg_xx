{
 "cells": [
  {
   "cell_type": "code",
   "execution_count": 7,
   "metadata": {},
   "outputs": [],
   "source": [
    "import numpy as np\n",
    "import matplotlib.pyplot as plt"
   ]
  },
  {
   "cell_type": "markdown",
   "metadata": {},
   "source": [
    "### 1. Entanglement entropy\n",
    "\n",
    "One approach to studying quantum correlations in spin chains is calculating the bipartite entropy of entanglement between a subsystem $A$ of $L$ contiguous particles and the rest of the system, when it is in a pure state $\\rho$:\n",
    "\n",
    "$$\n",
    "S = s[\\rho_A]\n",
    "$$\n",
    "\n",
    "$$\n",
    "\\begin{aligned}\n",
    "\\rho_A &= \\mathrm{tr}_{\\bar A} \\rho, & \\bar{A} &= \\{0, ..., N-1\\}\\backslash A\n",
    "\\end{aligned}\n",
    "$$\n",
    "\n",
    "for an appropriate entropy functional $s$. Since the state is pure we may take it to be $|M\\rangle=\\prod\\limits_{n=0}^{M-1}\\tilde{a}^\\dagger_n|0\\rangle$. We can then calculate the $L\\times L$ correlation matrix $C(L, M)\\equiv C$\n",
    "\n",
    "$$\n",
    "\\begin{aligned}\n",
    "C_{nm} &= \\langle M|a^\\dagger_n a_m|M\\rangle, & n,m = 0, ..., L-1\n",
    "\\end{aligned}\n",
    "$$\n",
    "\n",
    "It is easy to check that\n",
    "\n",
    "$$\n",
    "\\begin{aligned}\n",
    "\\langle M|\\tilde{a}^\\dagger_n\\tilde{a}_m|M\\rangle &= \\delta_{nm}\\chi_M, & \\chi_M &=\n",
    "    \\begin{cases}\n",
    "    1, \\quad n\\in\\{0, ..., M-1\\} \\\\\n",
    "    0, \\quad n\\not\\in\\{0, ..., M-1\\}\n",
    "    \\end{cases}\n",
    "\\end{aligned}\n",
    "$$\n",
    "\n",
    "And then since $a_n = \\sum\\limits_{k=0}^{N-1} \\Phi_{nk}\\tilde{a}_k$\n",
    "\n",
    "$$\n",
    "C_{nm} = \\sum\\limits_{j=0}^{N-1}\\sum\\limits_{k=0}^{N-1}\\Phi_{nj}\\Phi_{mk}\\delta_{jk}\\chi_M=\n",
    "\\sum\\limits_{k=0}^{M-1}\\Phi_{nk}\\Phi_{mk}=\n",
    "\\sum\\limits_{k=0}^{M-1}\\frac{w_k}{\\sqrt{\\gamma_n \\gamma_m}} P_n(\\varepsilon_k)P_m(\\varepsilon_k)\n",
    "$$"
   ]
  },
  {
   "cell_type": "code",
   "execution_count": 22,
   "metadata": {},
   "outputs": [
    {
     "name": "stdout",
     "output_type": "stream",
     "text": [
      "Correlation matrix from orthogonal polynomial system: \n",
      "[[ 0.86  -0.261 -0.18 ]\n",
      " [-0.261  0.5   -0.386]\n",
      " [-0.18  -0.386  0.59 ]]\n",
      "Correlation matrix from diagonalisation: \n",
      "[[ 0.86  -0.261 -0.18 ]\n",
      " [-0.261  0.5   -0.386]\n",
      " [-0.18  -0.386  0.59 ]]\n"
     ]
    }
   ],
   "source": [
    "# Calculating correlation matrix\n",
    "def OPS(N, a, b):\n",
    "    P = np.zeros((N+1, N+1))\n",
    "    P[0, N] = 1\n",
    "    P[1, -2:] = [1, - b[0]]\n",
    "    for n in range(1, N):\n",
    "        P[n+1] = np.roll(P[n], -1) - b[n] * P[n] - a[n-1] * P[n-1]\n",
    "    return P\n",
    "\n",
    "def corr(N, J, h, L, M):\n",
    "    P = OPS(N, J**2, h)\n",
    "    E = np.sort(np.roots(P[N]))[:M]\n",
    "    gamma = np.cumprod(J)**2\n",
    "    gamma = np.append(1, gamma)\n",
    "    denominator = np.polyval(P[N-1], E) * np.polyval(np.polyder(P[N]), E)\n",
    "    w = np.prod(J)**2 / denominator\n",
    "    C = np.empty((L, L))\n",
    "    for n in range(L):\n",
    "        C[n] = [np.sum(w*np.polyval(P[n], E)*np.polyval(P[m], E))/np.sqrt(gamma[n]*gamma[m]) for m in range(L)]\n",
    "    return C\n",
    "\n",
    "# Example / test\n",
    "N = 5\n",
    "J = np.linspace(1, N-1, N-1)\n",
    "h = np.ones(N)\n",
    "L, M = 3, 3\n",
    "C = corr(N, J, h, L, M)\n",
    "print('Correlation matrix from orthogonal polynomial system: ')\n",
    "print(np.around(C, 3))\n",
    "\n",
    "H1 = np.diag(h) + np.diag(J, 1) + np.diag(J, -1)\n",
    "Phi = np.linalg.eigh(H1)[1][:L, :M]\n",
    "print('Correlation matrix from diagonalisation: ')\n",
    "print(np.around(Phi @ Phi.T, 3))"
   ]
  },
  {
   "cell_type": "markdown",
   "metadata": {},
   "source": [
    "Refs. [2], [3] study Rényi entropy $s_\\alpha$:\n",
    "\n",
    "$$\n",
    "\\begin{aligned}\n",
    "s_\\alpha[\\rho_A] &= \\frac{1}{1-\\alpha}\\log\\mathrm{tr}(\\rho^\\alpha_A), & \\alpha>0\n",
    "\\end{aligned}\n",
    "$$\n",
    "\n",
    "$$\n",
    "s[\\rho_A]\\equiv\\lim\\limits_{\\alpha\\rightarrow1}s_\\alpha[\\rho_A]=-\\mathrm{tr}(\\rho_A\\log\\rho_A)\n",
    "$$\n",
    "\n",
    "Once we have computed the correlation matrix, we can use it's eigenvalues $\\nu_i$ to compute entropy via the formula\n",
    "\n",
    "$$\n",
    "S = \\sum\\limits_{i=0}^{L-1}s^{(2)}(\\nu_i)\n",
    "$$\n",
    "\n",
    "where $s^{(2)}\\equiv s[\\mathrm{diag}(x, 1-x)]$ is the binary entropy\n",
    "\n",
    "$$\n",
    "s_\\alpha^{(2)}(x) = \\frac{1}{1-\\alpha}\\log(x^\\alpha+(1-x)^\\alpha)\n",
    "$$\n",
    "\n",
    "$$\n",
    "s^{(2)}(x) = -x\\log x-(1-x)\\log(1-x)\n",
    "$$\n",
    "\n",
    "Since $C = \\Phi_{LM}\\Phi_{LM}^\\mathrm{T}$ is real, symmetric, positive definite, and so is $I-C$, then $0\\leq\\nu_i\\leq1$, as expected for probabilities."
   ]
  },
  {
   "cell_type": "code",
   "execution_count": 23,
   "metadata": {},
   "outputs": [
    {
     "name": "stdout",
     "output_type": "stream",
     "text": [
      "Entanglement entropy: 0.4509754963522565\n"
     ]
    }
   ],
   "source": [
    "def bin_entropy(alpha, nu):\n",
    "    if alpha == 1:\n",
    "        return - nu * np.log(nu) - (1 - nu) * np.log(1 - nu)\n",
    "    return np.log(nu ** alpha + (1 - nu) ** alpha) / (1 - alpha)\n",
    "\n",
    "# Example / test\n",
    "N = 5\n",
    "J = np.linspace(1, N-1, N-1)\n",
    "h = np.ones(N)\n",
    "L, M = 3, 3\n",
    "alpha = 1\n",
    "\n",
    "C = corr(N, J, h, L, M)\n",
    "nu = np.linalg.eigvalsh(C)\n",
    "S = np.sum(bin_entropy(alpha, nu))\n",
    "print(f'Entanglement entropy: {S}')"
   ]
  },
  {
   "cell_type": "markdown",
   "metadata": {},
   "source": [
    "### 2. Homogeneous XX chain\n",
    "\n",
    "The homogeneous chain studied in [1] has $J_n=J\\in\\mathbb{R}$, $h_n=h\\in\\mathbb{R}$. If we considered periodic boundary conditions, the system would be invariant under translations (all sites on the chain look the same). Translational invariance would imply momentum conservation, therefore we should work in the momentum (Fourier) basis.\n",
    "\n",
    "$$\n",
    "\\tilde{a}_k = \\frac{1}{\\sqrt{N}}\\sum\\limits_{n=0}^{N-1} a_n e^{-i\\frac{2\\pi}{N}nk}\n",
    "$$\n",
    "\n",
    "So $E=\\Phi^\\dagger H^1\\Phi$, with the diagonalisation being $\\Phi_{nk}=\\frac{1}{\\sqrt{N}}e^{-i\\frac{2\\pi}{N}nk}$. Let's naively apply this diagonalisation to the $H^1$ matrix with free boundary conditions:\n",
    "\n",
    "$$\n",
    "\\sum\\limits_{n=0}^{N-1}\\sum\\limits_{m=0}^{N-1}\\Phi^\\dagger_{jn} H^1_{nm} \\Phi_{mk} = \n",
    "\\frac{1}{N}\\sum\\limits_{n=0}^{N-1}\\sum\\limits_{m=0}^{N-1}e^{i\\frac{2\\pi}{N}jn}e^{-i\\frac{2\\pi}{N}mk}(J\\delta_{n+1,m}+J\\delta_{n-1,m}+h\\delta_{nm}) =\n",
    "$$\n",
    "\n",
    "$$\n",
    "= \\frac{1}{N}\\left(\n",
    "(e^{i\\frac{2\\pi}{N}k}+e^{-i\\frac{2\\pi}{N}k})J\\sum\\limits_{n=0}^{N-2}e^{i\\frac{2\\pi}{N}n(j-k)}+\n",
    "h\\sum\\limits_{n=0}^{N-1}e^{i\\frac{2\\pi}{N}n(j-k)}\n",
    "\\right) =\n",
    "$$\n",
    "\n",
    "$$\n",
    "= \\left(2\\cos\\left(\\frac{2\\pi k}{N}\\right)J+h\\right)\\delta_{jk}+ o\\left(\\frac{1}{N}\\right)\n",
    "$$\n",
    "\n",
    "$$\n",
    "\\boxed{\n",
    "\\begin{aligned}\n",
    "    H&\\approx\\sum\\limits_{n=0}^{N-1}\\varepsilon_n\\tilde{a}^\\dagger_n\\tilde{a}_n, &\n",
    "    \\varepsilon_n&\\approx2\\cos\\left(\\frac{2\\pi n}{N}\\right)J+h\n",
    "\\end{aligned}\n",
    "}\n",
    "$$\n",
    "\n",
    "The diagonalisation still works in the thermodynamic limit, when $N\\rightarrow\\infty$."
   ]
  },
  {
   "cell_type": "code",
   "execution_count": null,
   "metadata": {},
   "outputs": [
    {
     "data": {
      "text/plain": [
       "Text(0, 0.5, 'max |off diagonal|')"
      ]
     },
     "execution_count": 4,
     "metadata": {},
     "output_type": "execute_result"
    },
    {
     "data": {
      "image/png": "[encoded data removed]",
      "text/plain": [
       "<Figure size 640x480 with 1 Axes>"
      ]
     },
     "metadata": {},
     "output_type": "display_data"
    }
   ],
   "source": [
    "# Numerical test\n",
    "@np.vectorize()\n",
    "def offdiag_max(N, J, h):\n",
    "    H1 = h * np.diag(np.ones(N)) + J * (np.diag(np.ones(N-1), k=1) + np.diag(np.ones(N-1), k=-1))\n",
    "    FT = np.fft.fft(np.eye(N), norm='ortho') # Fourier transform matrix\n",
    "    E = np.conj(FT) @ H1 @ FT \n",
    "    return np.max(np.abs(E-np.diag(np.diag(E))))\n",
    "\n",
    "Nmax = 100\n",
    "J = 1\n",
    "h = 2\n",
    "\n",
    "N = np.arange(1, Nmax)\n",
    "o = offdiag_max(N, J, h)\n",
    "plt.plot(N, o, '.')\n",
    "plt.xlabel('N')\n",
    "plt.ylabel(r'max |off diagonal|')"
   ]
  },
  {
   "cell_type": "markdown",
   "metadata": {},
   "source": [
    "We can now easily find the ground state. It will have one particle at each site that $\\varepsilon_n$ is negative, therefore there are only particles where\n",
    "\n",
    "$$\n",
    "- \\left(\\frac{h}{J}\\right) > 2\\cos\\left(\\frac{2\\pi n}{N}\\right)\n",
    "$$\n",
    "\n",
    "Or, in other words\n",
    "\n",
    "$$\n",
    "\\begin{aligned}\n",
    "n_c \\leq n \\leq N - n_c, & & n_c &= \\left\\lceil\\frac{N}{2\\pi}\\arccos\\left(\\frac{-h}{2J} \\right)\\right\\rceil\n",
    "\\end{aligned}\n",
    "$$\n",
    "\n",
    "We then realise that if $h/J>2$ (the magnetic field is strong), the ground state is the vacuum $|0\\rangle$ (all spins up). In the limit $h/J\\rightarrow0$ however, $\\sum_n\\varepsilon_n=0$, therefore the ground state could be $|0\\rangle$ (all spins up) or $\\prod_n a^\\dagger_n|0\\rangle$ (all spins down, $|1\\rangle^{\\otimes N}$ in the computational basis)."
   ]
  },
  {
   "cell_type": "code",
   "execution_count": null,
   "metadata": {},
   "outputs": [
    {
     "data": {
      "text/plain": [
       "<matplotlib.legend.Legend at 0x17a3d529dd0>"
      ]
     },
     "execution_count": 5,
     "metadata": {},
     "output_type": "execute_result"
    },
    {
     "data": {
      "image/png": "[encoded data removed]",
      "text/plain": [
       "<Figure size 640x480 with 1 Axes>"
      ]
     },
     "metadata": {},
     "output_type": "display_data"
    }
   ],
   "source": [
    "# Let's visualise this\n",
    "N = 50\n",
    "J = 2\n",
    "h = 1\n",
    "\n",
    "nc = int(np.ceil(N * np.arccos(- h / (2*J)) / (2 * np.pi)))\n",
    "n = np.linspace(0, N-1, N)\n",
    "osc = 2 * np.cos(2 * np.pi * n / N)\n",
    "plt.plot(n, osc, '.')\n",
    "plt.plot([0, N], [-h/J, -h/J], ':')\n",
    "plt.fill_between(n[nc:N-nc+1], osc[nc:N-nc+1], - h / J, alpha=.5)\n",
    "plt.xlabel('n')\n",
    "plt.ylabel('E / J')\n",
    "plt.legend(['$2\\cos(2\\pi n/N)$', '- h / J', 'Excited modes'])"
   ]
  },
  {
   "cell_type": "markdown",
   "metadata": {},
   "source": [
    "### 3. General case\n",
    "\n",
    "According to ref. [3] \n",
    "\n",
    "$$\n",
    "\\mathrm{d}s^2 = J(x)^2 \\mathrm{d}t^2 - \\mathrm{d}x^2\n",
    "$$"
   ]
  },
  {
   "cell_type": "markdown",
   "metadata": {},
   "source": [
    "### References\n",
    "\n",
    "[1] Latorre, J., & Riera, A. (2009). A short review on entanglement in quantum spin systems. *Journal of Physics A: Mathematical and Theoretical, 42(50), 504002*. Retrieved from https://arxiv.org/abs/0906.1499\n",
    "\n",
    "[2] Finkel, F., & González-López, A. (2020). Inhomogeneous XX spin chains and quasi-exactly solvable models. *Journal of Statistical Mechanics: Theory and Experiment, 2020(9), 093105*. Retrieved from https://arxiv.org/abs/2007.00369\n",
    "\n",
    "[3] Finkel, F., & González-López, A. (2021). Entanglement entropy of inhomogeneous XX spin chains with algebraic interactions. *Journal of High Energy Physics, 2021(12)*. Retrieved from https://arxiv.org/abs/2107.12200"
   ]
  }
 ],
 "metadata": {
  "kernelspec": {
   "display_name": "venv",
   "language": "python",
   "name": "python3"
  },
  "language_info": {
   "codemirror_mode": {
    "name": "ipython",
    "version": 3
   },
   "file_extension": ".py",
   "mimetype": "text/x-python",
   "name": "python",
   "nbconvert_exporter": "python",
   "pygments_lexer": "ipython3",
   "version": "3.11.0"
  }
 },
 "nbformat": 4,
 "nbformat_minor": 2
}
