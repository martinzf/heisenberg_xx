{
 "cells": [
  {
   "cell_type": "code",
   "execution_count": 1,
   "metadata": {},
   "outputs": [],
   "source": [
    "import numpy as np\n",
    "import matplotlib.pyplot as plt"
   ]
  },
  {
   "cell_type": "markdown",
   "metadata": {},
   "source": [
    "### 1. Entanglement entropy\n",
    "\n",
    "One approach to studying quantum correlations in spin chains is calculating the bipartite entropy of entanglement between a subsystem $A$ of $L$ contiguous particles and the rest of the system, when it is in a pure state $\\rho$:\n",
    "\n",
    "$$\n",
    "S = s[\\rho_A]\n",
    "$$\n",
    "\n",
    "$$\n",
    "\\begin{aligned}\n",
    "\\rho_A &= \\mathrm{tr}_{\\bar A} \\rho, & \\bar{A} &= \\{0, ..., N-1\\}\\backslash A\n",
    "\\end{aligned}\n",
    "$$\n",
    "\n",
    "for an appropriate entropy functional $s$. Since the state is pure we may take it to be $|M\\rangle=\\prod\\limits_{n=0}^{M-1}\\tilde{a}^\\dagger_n|0\\rangle$. We can then calculate the $L\\times L$ correlation matrix [2], $C(L, M)\\equiv C$ \n",
    "\n",
    "$$\n",
    "\\begin{aligned}\n",
    "C_{nm} &= \\langle M|a^\\dagger_n a_m|M\\rangle, & n,m = 0, ..., L-1\n",
    "\\end{aligned}\n",
    "$$\n",
    "\n",
    "It is easy to check that\n",
    "\n",
    "$$\n",
    "\\begin{aligned}\n",
    "\\langle M|\\tilde{a}^\\dagger_n\\tilde{a}_m|M\\rangle &= \\delta_{nm}\\chi_M, & \\chi_M &=\n",
    "    \\begin{cases}\n",
    "    1, \\quad n\\in\\{0, ..., M-1\\} \\\\\n",
    "    0, \\quad n\\not\\in\\{0, ..., M-1\\}\n",
    "    \\end{cases}\n",
    "\\end{aligned}\n",
    "$$\n",
    "\n",
    "And then since $a_n = \\sum\\limits_{k=0}^{N-1} \\Phi_{nk}\\tilde{a}_k$\n",
    "\n",
    "$$\n",
    "C_{nm} = \\sum\\limits_{j=0}^{N-1}\\sum\\limits_{k=0}^{N-1}\\Phi_{nj}\\Phi_{mk}\\delta_{jk}\\chi_M=\n",
    "\\sum\\limits_{k=0}^{M-1}\\Phi_{nk}\\Phi_{mk}=\n",
    "\\boxed{\n",
    "\\sum\\limits_{k=0}^{M-1}\\frac{w_k}{\\sqrt{\\gamma_n \\gamma_m}} P_n(\\varepsilon_k)P_m(\\varepsilon_k)\n",
    "}\n",
    "$$"
   ]
  },
  {
   "cell_type": "code",
   "execution_count": 2,
   "metadata": {},
   "outputs": [
    {
     "name": "stdout",
     "output_type": "stream",
     "text": [
      "Correlation matrix from orthogonal polynomial system: \n",
      "[[ 0.86  -0.261 -0.18 ]\n",
      " [-0.261  0.5   -0.386]\n",
      " [-0.18  -0.386  0.59 ]]\n",
      "Correlation matrix from diagonalisation: \n",
      "[[ 0.86  -0.261 -0.18 ]\n",
      " [-0.261  0.5   -0.386]\n",
      " [-0.18  -0.386  0.59 ]]\n"
     ]
    }
   ],
   "source": [
    "# Calculating correlation matrix\n",
    "def OPS(N, a, b):\n",
    "    P = np.zeros((N+1, N+1))\n",
    "    P[0, N] = 1\n",
    "    P[1, -2:] = [1, - b[0]]\n",
    "    for n in range(1, N):\n",
    "        P[n+1] = np.roll(P[n], -1) - b[n] * P[n] - a[n-1] * P[n-1]\n",
    "    return P\n",
    "\n",
    "def corr(N, J, h, L, M):\n",
    "    P = OPS(N, J**2, h)\n",
    "    E = np.sort(np.roots(P[N]))[:M]\n",
    "    gamma = np.cumprod(J)**2\n",
    "    gamma = np.append(1, gamma)\n",
    "    denominator = np.polyval(P[N-1], E) * np.polyval(np.polyder(P[N]), E)\n",
    "    w = np.prod(J)**2 / denominator\n",
    "    C = np.empty((L, L))\n",
    "    for n in range(L):\n",
    "        C[n] = [np.sum(w*np.polyval(P[n], E)*np.polyval(P[m], E))/np.sqrt(gamma[n]*gamma[m]) for m in range(L)]\n",
    "    return C\n",
    "\n",
    "# Example / test\n",
    "N = 5\n",
    "J = np.linspace(1, N-1, N-1)\n",
    "h = np.ones(N)\n",
    "L, M = 3, 3\n",
    "C = corr(N, J, h, L, M)\n",
    "print('Correlation matrix from orthogonal polynomial system: ')\n",
    "print(np.around(C, 3))\n",
    "\n",
    "H1 = np.diag(h) + np.diag(J, 1) + np.diag(J, -1)\n",
    "Phi = np.linalg.eigh(H1)[1][:L, :M]\n",
    "print('Correlation matrix from diagonalisation: ')\n",
    "print(np.around(Phi @ Phi.T, 3))"
   ]
  },
  {
   "cell_type": "markdown",
   "metadata": {},
   "source": [
    "Refs. [2], [3] study Rényi entropy $s_\\alpha$:\n",
    "\n",
    "$$\n",
    "\\begin{aligned}\n",
    "s_\\alpha[\\rho_A] &= \\frac{1}{1-\\alpha}\\log\\mathrm{tr}(\\rho^\\alpha_A), & \\alpha>0\n",
    "\\end{aligned}\n",
    "$$\n",
    "\n",
    "$$\n",
    "s[\\rho_A]\\equiv\\lim\\limits_{\\alpha\\rightarrow1}s_\\alpha[\\rho_A]=-\\mathrm{tr}(\\rho_A\\log\\rho_A)\n",
    "$$\n",
    "\n",
    "Let's briefly outline the algorithm explained in ref. [1] for calculating $s[\\rho_A]$ from the correlation matrix. Starting with\n",
    "\n",
    "$$\n",
    "C_{nm} = \\langle M|a^\\dagger_n a_m|M\\rangle = \\mathrm{tr}(a^\\dagger_n a_m \\rho_A)\n",
    "$$\n",
    "\n",
    "since $C$ is real symmetric, it is orthogonally diagonalisable\n",
    "\n",
    "$$\n",
    "\\begin{aligned}\n",
    "G_{nm} = (RCR^\\mathrm{T})_{nm} &= \\mathrm{tr}(g^\\dagger_n g_m \\rho_A) = \\nu_n \\delta_{nm}, &\n",
    "g_n = \\sum\\limits_{k=0}^{L-1} R_{nk} a_k\n",
    "\\end{aligned}\n",
    "$$\n",
    "\n",
    "which implies $\\rho_A$ is uncorrelated and can be written as\n",
    "\n",
    "$$\n",
    "\\rho_A = \\rho_0 \\otimes ... \\otimes \\rho_{L-1}\n",
    "$$\n",
    "\n",
    "In the $\\{|0\\rangle, |1\\rangle\\}\\equiv\\{\\mathrm{vacuum}, \\mathrm{fermion}\\}$ single particle (rotated) basis, the matrices of our operators are \n",
    "\n",
    "$$\n",
    "\\begin{aligned}\n",
    "g_i &= \\begin{pmatrix} 0 & 1 \\\\ 0 & 0 \\end{pmatrix}, &\n",
    "g^\\dagger_i &= \\begin{pmatrix} 0 & 0 \\\\ 1 & 0 \\end{pmatrix}, &\n",
    "\\rho_i &= \\begin{pmatrix} 1-\\alpha_i & \\beta^*_i \\\\ \\beta_i & \\alpha_i \\end{pmatrix}\n",
    "\\end{aligned}\n",
    "$$\n",
    "\n",
    "We can now calculate the elements of the $\\rho_i$ matrices:\n",
    "\n",
    "$$\n",
    "\\begin{aligned}\n",
    "\\langle M|g_i |M\\rangle &= 0, &\n",
    "\\langle M|g_i |M\\rangle &= \\mathrm{tr}(g_i\\rho_i) = \\beta_i & \\Rightarrow &&\n",
    "\\beta_i &= 0\n",
    "\\end{aligned}\n",
    "$$\n",
    "\n",
    "$$\n",
    "\\begin{aligned}\n",
    "\\mathrm{tr}(g^\\dagger_i g_i\\rho_i) &= \\nu_i, &\n",
    "\\mathrm{tr}(g^\\dagger_i g_i\\rho_i) &= \\alpha_i & \\Rightarrow &&\n",
    "\\alpha_i = \\nu_i\n",
    "\\end{aligned}\n",
    "$$\n",
    "\n",
    "And finally\n",
    "\n",
    "$$\n",
    "\\boxed{\n",
    "\\rho_A = \\bigotimes\\limits_{i=0}^{L-1} \\mathrm{diag}(1-\\nu_i, \\nu_i)\n",
    "}\n",
    "$$\n",
    "\n",
    "So once we have computed the correlation matrix, we can use it's eigenvalues $\\nu_i$ to compute entropy via the formula\n",
    "\n",
    "$$\n",
    "\\boxed{\n",
    "S = \\sum\\limits_{i=0}^{L-1}s^{(2)}(\\nu_i)\n",
    "}\n",
    "$$\n",
    "\n",
    "where $s^{(2)}$ is the binary entropy\n",
    "\n",
    "$$\n",
    "s_\\alpha^{(2)}(x) = \\frac{1}{1-\\alpha}\\log(x^\\alpha+(1-x)^\\alpha)\n",
    "$$\n",
    "\n",
    "$$\n",
    "s^{(2)}(x) = -x\\log x-(1-x)\\log(1-x)\n",
    "$$\n",
    "\n",
    "Since $C = \\Phi_{LM}\\Phi_{LM}^\\mathrm{T}$ is real, symmetric, positive definite, and so is $I-C$, then $0\\leq\\nu_i\\leq1$, as expected for probabilities."
   ]
  },
  {
   "cell_type": "code",
   "execution_count": 3,
   "metadata": {},
   "outputs": [
    {
     "name": "stdout",
     "output_type": "stream",
     "text": [
      "Entanglement entropy: 0.4509754963522565\n"
     ]
    }
   ],
   "source": [
    "def bin_entropy(alpha, nu):\n",
    "    if alpha == 1:\n",
    "        return - nu * np.log(nu) - (1 - nu) * np.log(1 - nu)\n",
    "    return np.log(nu ** alpha + (1 - nu) ** alpha) / (1 - alpha)\n",
    "\n",
    "# Example / test\n",
    "N = 5\n",
    "J = np.linspace(1, N-1, N-1)\n",
    "h = np.ones(N)\n",
    "L, M = 3, 3\n",
    "alpha = 1\n",
    "\n",
    "C = corr(N, J, h, L, M)\n",
    "nu = np.linalg.eigvalsh(C)\n",
    "S = np.sum(bin_entropy(alpha, nu))\n",
    "print(f'Entanglement entropy: {S}')"
   ]
  },
  {
   "cell_type": "markdown",
   "metadata": {},
   "source": [
    "### 2. Homogeneous XX chain"
   ]
  },
  {
   "cell_type": "markdown",
   "metadata": {},
   "source": [
    "#### 2.1 Diagonalisation\n",
    "\n",
    "The homogeneous chain studied in [1] has $J_n=J\\in\\mathbb{R}$, $h_n=h\\in\\mathbb{R}$. If we considered periodic boundary conditions, the system would be invariant under translations (all sites on the chain look the same). Translational invariance would imply momentum conservation, therefore we should work in the momentum (Fourier) basis.\n",
    "\n",
    "$$\n",
    "\\tilde{a}_k = \\frac{1}{\\sqrt{N}}\\sum\\limits_{n=0}^{N-1} a_n e^{-i\\frac{2\\pi}{N}nk}\n",
    "$$\n",
    "\n",
    "So $E=\\Phi^\\dagger H^1\\Phi$, with the diagonalisation being $\\Phi_{nk}=\\frac{1}{\\sqrt{N}}e^{-i\\frac{2\\pi}{N}nk}$. Let's naively apply this diagonalisation to the $H^1$ matrix with free boundary conditions:\n",
    "\n",
    "$$\n",
    "\\sum\\limits_{n=0}^{N-1}\\sum\\limits_{m=0}^{N-1}\\Phi^\\dagger_{jn} H^1_{nm} \\Phi_{mk} = \n",
    "\\frac{1}{N}\\sum\\limits_{n=0}^{N-1}\\sum\\limits_{m=0}^{N-1}e^{i\\frac{2\\pi}{N}jn}e^{-i\\frac{2\\pi}{N}mk}(J\\delta_{n+1,m}+J\\delta_{n-1,m}+h\\delta_{nm}) =\n",
    "$$\n",
    "\n",
    "$$\n",
    "= \\frac{1}{N}\\left(\n",
    "(e^{i\\frac{2\\pi}{N}k}+e^{-i\\frac{2\\pi}{N}k})J\\sum\\limits_{n=0}^{N-2}e^{i\\frac{2\\pi}{N}n(j-k)}+\n",
    "h\\sum\\limits_{n=0}^{N-1}e^{i\\frac{2\\pi}{N}n(j-k)}\n",
    "\\right) =\n",
    "$$\n",
    "\n",
    "$$\n",
    "= \\left(2\\cos\\left(\\frac{2\\pi k}{N}\\right)J+h\\right)\\delta_{jk}+ o\\left(\\frac{1}{N}\\right)\n",
    "$$\n",
    "\n",
    "$$\n",
    "\\boxed{\n",
    "\\begin{aligned}\n",
    "    H&\\approx\\sum\\limits_{k=0}^{N-1}\\varepsilon_k\\tilde{a}^\\dagger_k\\tilde{a}_k, &\n",
    "    \\varepsilon_k&\\approx2\\cos\\left(\\frac{2\\pi k}{N}\\right)J+h\n",
    "\\end{aligned}\n",
    "}\n",
    "$$\n",
    "\n",
    "The diagonalisation still works in the thermodynamic limit, when $N\\rightarrow\\infty$."
   ]
  },
  {
   "cell_type": "code",
   "execution_count": 4,
   "metadata": {},
   "outputs": [
    {
     "data": {
      "text/plain": [
       "Text(0, 0.5, 'max |off diagonal|')"
      ]
     },
     "execution_count": 4,
     "metadata": {},
     "output_type": "execute_result"
    },
    {
     "data": {
      "image/png": "[encoded data removed]",
      "text/plain": [
       "<Figure size 640x480 with 1 Axes>"
      ]
     },
     "metadata": {},
     "output_type": "display_data"
    }
   ],
   "source": [
    "# Numerical test\n",
    "@np.vectorize()\n",
    "def offdiag_max(N, J, h):\n",
    "    H1 = h * np.diag(np.ones(N)) + J * (np.diag(np.ones(N-1), k=1) + np.diag(np.ones(N-1), k=-1))\n",
    "    FT = np.fft.fft(np.eye(N), norm='ortho') # Fourier transform matrix\n",
    "    E = np.conj(FT) @ H1 @ FT \n",
    "    return np.max(np.abs(E-np.diag(np.diag(E))))\n",
    "\n",
    "Nmax = 100\n",
    "J = 1\n",
    "h = 2\n",
    "\n",
    "N = np.arange(1, Nmax)\n",
    "o = offdiag_max(N, J, h)\n",
    "plt.plot(N, o, '.')\n",
    "plt.xlabel('N')\n",
    "plt.ylabel(r'max |off diagonal|')"
   ]
  },
  {
   "cell_type": "markdown",
   "metadata": {},
   "source": [
    "We can now easily find the ground state. It will have one particle at each site that $\\varepsilon_n$ is negative, therefore there are only particles where\n",
    "\n",
    "$$\n",
    "- \\left(\\frac{h}{J}\\right) > 2\\cos\\left(\\frac{2\\pi k}{N}\\right)\n",
    "$$\n",
    "\n",
    "Or, in other words\n",
    "\n",
    "$$\n",
    "\\begin{aligned}\n",
    "k_c \\leq k \\leq N - k_c, & & k_c &= \\left\\lceil\\frac{N}{2\\pi}\\arccos\\left(\\frac{-h}{2J} \\right)\\right\\rceil\n",
    "\\end{aligned}\n",
    "$$\n",
    "\n",
    "We then realise that if $h/J>2$ (the magnetic field is strong), the ground state is the vacuum $|0\\rangle$ (all spins up)."
   ]
  },
  {
   "cell_type": "code",
   "execution_count": 5,
   "metadata": {},
   "outputs": [
    {
     "data": {
      "text/plain": [
       "<matplotlib.legend.Legend at 0x29ee7ab12d0>"
      ]
     },
     "execution_count": 5,
     "metadata": {},
     "output_type": "execute_result"
    },
    {
     "data": {
      "image/png": "[encoded data removed]",
      "text/plain": [
       "<Figure size 640x480 with 1 Axes>"
      ]
     },
     "metadata": {},
     "output_type": "display_data"
    }
   ],
   "source": [
    "# Let's visualise this\n",
    "N = 50\n",
    "J = 2\n",
    "h = 1\n",
    "\n",
    "kc = int(np.ceil(N * np.arccos(- h / (2*J)) / (2 * np.pi)))\n",
    "k = np.linspace(0, N-1, N)\n",
    "osc = 2 * np.cos(2 * np.pi * k / N)\n",
    "plt.plot(k, osc, '.')\n",
    "plt.plot([0, N], [-h/J, -h/J], ':')\n",
    "plt.fill_between(k[kc:N-kc+1], osc[kc:N-kc+1], - h / J, alpha=.5)\n",
    "plt.xlabel('k')\n",
    "plt.ylabel('E / J')\n",
    "plt.legend(['$2\\cos(2\\pi n/N)$', '- h / J', 'Excited modes'])"
   ]
  },
  {
   "cell_type": "markdown",
   "metadata": {},
   "source": [
    "#### 2.2 Correlation Matrix\n",
    "\n",
    "Now the system has been diagonalised, we can calculate its correlation matrix:\n",
    "\n",
    "$$\n",
    "C_{nm} = \\sum_{k=N/2-M/2}^{N/2+M/2} \\Phi_{nk} \\Phi^*_{mk}\n",
    " = \\frac{1}{N} \\sum_{k=-M/2}^{M/2} e^{-i\\frac{2\\pi}{N}(k+N/2)(n-m)} =\n",
    "$$\n",
    "\n",
    "$$\n",
    "=  \\frac{1}{N} \\sum_{k=-M/2}^{M/2} \\cos\\left(\\pi\\left(\\frac{2k}{N}+1\\right)(n-m)\\right) = \n",
    "(-1)^{n-m} \\frac{2}{N} \\sum_{k=0}^{M/2} \\cos\\left(\\frac{2\\pi k}{N}(n-m)\\right)\n",
    "$$\n",
    "\n",
    "And in the thermodynamic limit\n",
    "\n",
    "$$\n",
    "C_{nm} \\approx 2(-1)^{n-m} \\int_0^{M/2N} \\mathrm{d}x \\cos(2\\pi x(n-m)) = \n",
    "\\boxed{(-1)^{n-m}\\frac{M}{N}\\mathrm{sinc}\\left(\\frac{\\pi M}{N}(n-m)\\right)}\n",
    "$$\n",
    "\n",
    "Let's verify this."
   ]
  },
  {
   "cell_type": "code",
   "execution_count": 7,
   "metadata": {},
   "outputs": [
    {
     "name": "stderr",
     "output_type": "stream",
     "text": [
      "C:\\Users\\zapat\\AppData\\Local\\Temp\\ipykernel_4324\\125348673.py:19: ComplexWarning: Casting complex values to real discards the imaginary part\n",
      "  C[n] = [np.sum(w*np.polyval(P[n], E)*np.polyval(P[m], E))/np.sqrt(gamma[n]*gamma[m]) for m in range(L)]\n",
      "C:\\Users\\zapat\\AppData\\Local\\Temp\\ipykernel_4324\\125348673.py:15: RuntimeWarning: overflow encountered in multiply\n",
      "  denominator = np.polyval(P[N-1], E) * np.polyval(np.polyder(P[N]), E)\n",
      "C:\\Users\\zapat\\AppData\\Local\\Temp\\ipykernel_4324\\125348673.py:16: RuntimeWarning: invalid value encountered in divide\n",
      "  w = np.prod(J)**2 / denominator\n"
     ]
    },
    {
     "data": {
      "text/plain": [
       "' \\nHere we run into some tolerance issues which could be resolved with more careful code and precision management.\\nWe can still see the error decreasing.\\n'"
      ]
     },
     "execution_count": 7,
     "metadata": {},
     "output_type": "execute_result"
    },
    {
     "data": {
      "image/png": "[encoded data removed]",
      "text/plain": [
       "<Figure size 640x480 with 1 Axes>"
      ]
     },
     "metadata": {},
     "output_type": "display_data"
    }
   ],
   "source": [
    "def corr_homogeneous(N, L, M):\n",
    "    C = np.empty((L, L))\n",
    "    for n in range(L):\n",
    "        for m in range(L):\n",
    "            C[n, m] = (-1)**(n-m) * M/N * np.sinc(M/N*(n-m))\n",
    "    return C\n",
    "\n",
    "# Example / test\n",
    "N = np.arange(10, 160)\n",
    "J = 2\n",
    "h = -1\n",
    "L, M = 10, 10\n",
    "\n",
    "@np.vectorize\n",
    "def error(N, J, h, L, M):\n",
    "    C_the = corr_homogeneous(N, L, M)\n",
    "    C_num = corr(N, J * np.ones(N-1), h * np.ones(N), L, M)\n",
    "    return np.max(np.abs(C_the - C_num))\n",
    "\n",
    "err = error(N, J, h, L, M)\n",
    "plt.plot(N, err)\n",
    "plt.title(f'Theoretical correlation matrix test, L = {L}, M = {M}')\n",
    "plt.xlabel('N')\n",
    "plt.ylabel('max |C$_{the}$ - C$_{num}$|')\n",
    "''' \n",
    "Here we run into some tolerance issues which could be resolved with more careful code and precision management.\n",
    "We can still see the error decreasing.\n",
    "'''"
   ]
  },
  {
   "cell_type": "markdown",
   "metadata": {},
   "source": [
    "#### 2.3 Entanglement Entropy\n",
    "\n",
    "So now all that remains is calculating the entanglement entropy. The procedure described in Refs. [1], [4] is rather involved. One starts by defining\n",
    "\n",
    "$$\n",
    "D(\\mu) = \\mathrm{det}(\\mu I - C) = \\prod_{i=0}^{L-1} (\\mu - \\nu_i)\n",
    "$$\n",
    "\n",
    "The Fisher-Hartwig conjecture provides an asymptotic expression for $D(\\mu)$, which can be plugged into Cauchy's integral formula:\n",
    "\n",
    "$$\n",
    "S = \\sum\\limits_{i=0}^{L-1}e(1+\\epsilon, \\nu_i) = \n",
    "\\sum\\limits_{i=0}^{L-1}\\frac{1}{2\\pi i}\\oint_{c(\\epsilon,\\delta)} \\frac{e(1+\\epsilon,\\mu)}{\\mu-\\nu_i}\\mathrm{d}\\mu =\n",
    "\\frac{1}{2\\pi i}\\oint_{c(\\epsilon,\\delta)} e(1+\\epsilon,\\mu)\\ \\mathrm{d}(\\log D(\\mu))\n",
    "$$\n",
    "\n",
    "Here $e(1+\\epsilon,\\mu)$ is an analytic function such that $e(1, \\nu_i)=s^{(2)}(\\nu_i)$, and $c(\\epsilon, \\delta)$ is a dumbbell-shaped contour enclosing all eigenvalues $\\nu_i$ on the real line [4]. We then take $\\epsilon,\\delta\\rightarrow0^+$.\n",
    "\n",
    "Finally, for a system filled up to $M=k_c$, Ref. [1] presents the analytical result for Shannon entropy. Ref. [3] however presents a more complete result. If we define $\\lambda=\\lim\\limits_{N\\rightarrow\\infty} L/N$, the size of the studied block of particles relative to the entire system, the Rényi entropy at arbitrary filling for open boundary conditions is given by\n",
    "\n",
    "$$\n",
    "S_\\alpha(N,\\lambda) = \\frac{c}{12}(1+\\alpha^{-1})\\log f(N,\\lambda) + c'_\\alpha +\n",
    "\\begin{cases}\n",
    "O(N^{-1}), \n",
    "\\qquad\\qquad\\qquad\\qquad\\qquad\\qquad\\qquad\\qquad \\alpha<1 \\\\\n",
    "\\mu_\\alpha\\sin((2L+1)k_F) f(N, \\lambda)^{-1/\\alpha} + o(N^{-1/\\alpha}),\n",
    "\\quad \\alpha\\geq1\n",
    "\\end{cases}\n",
    "$$\n",
    "\n",
    "There a lot of important points to discuss here:\n",
    "\n",
    "- $c$ is the central charge of a CFT related to the spin chain, at half filling $c=1$. It determines the model's universality class.\n",
    "\n",
    "- $c'_\\alpha = \\frac{1}{2}(1+\\alpha^{-1})\\left\\{\\frac{\\log2}{3} + \\int_0^\\infty\\left[\\frac{\\mathrm{csch}\\ t}{1-\\alpha^{-2}}(\\alpha^{-1}\\mathrm{csch}(t/\\alpha)-\\mathrm{csch}\\ t)-\\frac{e^{-2t}}{6} \\right]\\frac{\\mathrm{d}t}{t} \\right\\} $, noting that $\\lim\\limits_{\\alpha\\rightarrow1}\\frac{\\mathrm{csch}\\ t}{1-\\alpha^{-2}}(\\alpha^{-1}\\mathrm{csch}(t/\\alpha)-\\mathrm{csch}\\ t) = \\frac{1}{2}(t\\ \\mathrm{coth}\\ t-1)\\mathrm{csch}^2 t $, an ugly formula but nothing special. It is a non-universal constant [3].\n",
    "\n",
    "- $f(N, \\lambda)=\\frac{N}{\\pi}\\sin(\\pi\\lambda)\\sin(k_F)$\n",
    "\n",
    "- $k_F = \\pi M/N$ is the Fermi momentum, given by the last filled level.\n",
    "\n",
    "- $\\mu_\\alpha = \\frac{2^{1-\\frac{2}{\\alpha}}}{1-\\alpha}\\frac{\\Gamma(\\frac{1}{2}+\\frac{1}{2\\alpha})}{\\Gamma(\\frac{1}{2}-\\frac{1}{2\\alpha})},\\quad\\lim\\limits_{\\alpha\\rightarrow1}\\mu_\\alpha=-\\frac{1}{4}$\n",
    "\n",
    "- $\\sin((2L+1)k_F)$ produces parity oscillations, which for large $\\alpha$ can obscure the leading asymptotic terms.\n",
    "\n",
    "This complicated result is important because it allows us to guess the shape of $S_\\alpha$ for inhomogeneous chains under certain conditions."
   ]
  },
  {
   "cell_type": "code",
   "execution_count": null,
   "metadata": {},
   "outputs": [],
   "source": []
  },
  {
   "cell_type": "markdown",
   "metadata": {},
   "source": [
    "### 3. General case\n",
    "\n",
    "Inhomogeneous spin chains hold no relation to CFTs, except at half filling, when according to [3], in the continuous limit, the Hamiltonian coincides with that of a free massless Dirac (regular) fermion in spacetime with static metric\n",
    "\n",
    "$$\n",
    "\\mathrm{d}s^2 = J(x)^2 \\mathrm{d}t^2 - \\mathrm{d}x^2\n",
    "$$\n",
    "\n",
    "where $J(x)$ is the continuum limit of $J_n$ and $x=n\\Delta x,\\ \\mathcal{L}=(N-1)\\Delta x \\Rightarrow\\ x\\in[0, \\mathcal{L}]$, for some length $\\mathcal{L}$. In isothermal coordinates:\n",
    "\n",
    "$$\n",
    "\\mathrm{d}s^2 = J(x)^2 (\\mathrm{d}t^2 - \\mathrm{d}\\tilde{x}^2)\n",
    "$$\n",
    "\n",
    "We can therefore define the conformal lengths\n",
    "\n",
    "$$\n",
    "\\begin{aligned}\n",
    "\\Delta\\tilde{x} &= \\frac{\\Delta x}{J(l)} &\n",
    "\\tilde{\\ell} &= \\tilde{x}(\\ell) &\n",
    "\\tilde{\\mathcal{L}} &= \\tilde{x}(\\mathcal{L}) \n",
    "\\end{aligned}\n",
    "$$\n",
    "\n",
    "given by\n",
    "\n",
    "$$\n",
    "\\tilde{x}(x) = \\int_0^x \\frac{\\mathrm{d}s}{J(s)}\n",
    "$$\n",
    "\n",
    "So for $\\alpha<1$ the following holds:\n",
    "\n",
    "$$\n",
    "\\boxed{\n",
    "S_\\alpha = \\frac{1}{12}(1+\\alpha^{-1})\\log f(N, \\lambda) + c'_\\alpha + o(1)\n",
    "}\n",
    "$$\n",
    "\n",
    "$$\n",
    "f(N, \\lambda) = \\frac{\\tilde{\\mathcal{L}}}{\\pi\\Delta\\tilde{x}}\\sin\\left(\\frac{\\pi\\tilde{\\ell}}{\\tilde{\\mathcal{L}}}\\right)\\approx\n",
    "\\frac{N\\tilde{\\mathcal{L}}/\\mathcal{L}}{\\pi}J(\\ell)\\sin\\left(\\frac{\\pi\\tilde{\\ell}}{\\tilde{\\mathcal{L}}}\\right)\n",
    "$$\n",
    "\n",
    "and $c'_\\alpha$ is not necessarily given by the previous formula. Ref. [3] conjectures an extension to the formula for $k_F=\\pi/2$ and $B_n=const.$, however for many models it does not hold:\n",
    "\n",
    "$$\n",
    "S_\\alpha(N,\\lambda) = \\frac{1}{12}(1+\\alpha^{-1})\\log f(N,\\lambda) + c'_\\alpha +\n",
    "\\begin{cases}\n",
    "O(N^{-1}), \n",
    "\\qquad\\qquad\\qquad\\qquad\\qquad\\quad \\alpha<1 \\\\\n",
    "\\mu_\\alpha(-1)^L f(N, \\lambda)^{-1/\\alpha} + o(N^{-1/\\alpha}),\n",
    "\\quad \\alpha\\geq1\n",
    "\\end{cases}\n",
    "$$"
   ]
  },
  {
   "cell_type": "markdown",
   "metadata": {},
   "source": [
    "### References\n",
    "\n",
    "[1] Latorre, J., & Riera, A. (2009). A short review on entanglement in quantum spin systems. *Journal of Physics A: Mathematical and Theoretical, 42(50), 504002*. Retrieved from https://arxiv.org/abs/0906.1499\n",
    "\n",
    "[2] Finkel, F., & González-López, A. (2020). Inhomogeneous XX spin chains and quasi-exactly solvable models. *Journal of Statistical Mechanics: Theory and Experiment, 2020(9), 093105*. Retrieved from https://arxiv.org/abs/2007.00369\n",
    "\n",
    "[3] Finkel, F., & González-López, A. (2021). Entanglement entropy of inhomogeneous XX spin chains with algebraic interactions. *Journal of High Energy Physics, 2021(12)*. Retrieved from https://arxiv.org/abs/2107.12200\n",
    "\n",
    "[4] Jin, B.Q., & Korepin, V. (2004). Quantum Spin Chain, Toeplitz Determinants and the Fisher–Hartwig Conjecture. *Journal of Statistical Physics, 116(1–4), 79–95*. Retrieved from https://arxiv.org/abs/quant-ph/0304108"
   ]
  }
 ],
 "metadata": {
  "kernelspec": {
   "display_name": "venv",
   "language": "python",
   "name": "python3"
  },
  "language_info": {
   "codemirror_mode": {
    "name": "ipython",
    "version": 3
   },
   "file_extension": ".py",
   "mimetype": "text/x-python",
   "name": "python",
   "nbconvert_exporter": "python",
   "pygments_lexer": "ipython3",
   "version": "3.11.0"
  }
 },
 "nbformat": 4,
 "nbformat_minor": 2
}
