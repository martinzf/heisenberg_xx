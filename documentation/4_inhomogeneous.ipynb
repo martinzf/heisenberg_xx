{
 "cells": [
  {
   "cell_type": "code",
   "execution_count": null,
   "metadata": {},
   "outputs": [],
   "source": [
    "import numpy as np\n",
    "import matplotlib.pyplot as plt\n",
    "\n",
    "from utils import SpinChain, asymptotic_entropy, cp_homogeneous"
   ]
  },
  {
   "cell_type": "markdown",
   "metadata": {},
   "source": [
    "### Inhomogeneous XX chain\n",
    "\n",
    "The most general case is that of a chain with arbitrary $J_n$ and $h_n$."
   ]
  },
  {
   "cell_type": "markdown",
   "metadata": {},
   "source": [
    "### General case\n",
    "\n",
    "Inhomogeneous spin chains hold no relation to CFTs, except at half filling, when according to [3], in the continuous limit, the Hamiltonian coincides with that of a free massless Dirac (regular) fermion in spacetime with static metric\n",
    "\n",
    "$$\n",
    "\\mathrm{d}s^2 = J(x)^2 \\mathrm{d}t^2 - \\mathrm{d}x^2\n",
    "$$\n",
    "\n",
    "where $J(x)$ is the continuum limit of $J_n$ and $x=n\\Delta x,\\ \\mathcal{L}=(N-1)\\Delta x \\Rightarrow\\ x\\in[0, \\mathcal{L}]$, for some length $\\mathcal{L}$. In isothermal coordinates:\n",
    "\n",
    "$$\n",
    "\\mathrm{d}s^2 = J(x)^2 (\\mathrm{d}t^2 - \\mathrm{d}\\tilde{x}^2)\n",
    "$$\n",
    "\n",
    "We can therefore define the conformal lengths\n",
    "\n",
    "$$\n",
    "\\begin{aligned}\n",
    "\\Delta\\tilde{x} &= \\frac{\\Delta x}{J(\\ell)}, &\n",
    "\\tilde{\\ell} &= \\tilde{x}(\\ell), &\n",
    "\\tilde{\\mathcal{L}} &= \\tilde{x}(\\mathcal{L}) \n",
    "\\end{aligned}\n",
    "$$\n",
    "\n",
    "given by\n",
    "\n",
    "$$\n",
    "\\tilde{x}(x) = \\int_0^x \\frac{\\mathrm{d}s}{J(s)}\n",
    "$$\n",
    "\n",
    "So the following holds:\n",
    "\n",
    "$$\n",
    "\\boxed{\n",
    "S_\\alpha = \\frac{1}{12}(1+\\alpha^{-1})\\log f(N, \\lambda) + c'_\\alpha + o(1)\n",
    "}\n",
    "$$\n",
    "\n",
    "$$\n",
    "f(N, \\lambda) = \\frac{\\tilde{\\mathcal{L}}}{\\pi\\Delta\\tilde{x}}\\sin\\left(\\frac{\\pi\\tilde{\\ell}}{\\tilde{\\mathcal{L}}}\\right)\\approx\n",
    "\\frac{N\\tilde{\\mathcal{L}}/\\mathcal{L}}{\\pi}J(\\ell)\\sin\\left(\\frac{\\pi\\tilde{\\ell}}{\\tilde{\\mathcal{L}}}\\right)\n",
    "$$\n",
    "\n",
    "where $c'_\\alpha$ is not necessarily given by the previous formula. Ref. [3] conjectures an extension to the formula for $k_F=1/2$ and $h_n=const.$, however for many models it does not hold:\n",
    "\n",
    "$$\n",
    "S_\\alpha(N,\\lambda) = \\frac{1}{12}(1+\\alpha^{-1})\\log f(N,\\lambda) + c'_\\alpha +\n",
    "\\begin{cases}\n",
    "O(N^{-1}), \n",
    "\\qquad\\qquad\\qquad\\qquad\\qquad\\quad \\alpha<1 \\\\\n",
    "\\mu_\\alpha(-1)^L f(N, \\lambda)^{-1/\\alpha} + o(N^{-1/\\alpha}),\n",
    "\\quad \\alpha\\geq1\n",
    "\\end{cases}\n",
    "$$"
   ]
  },
  {
   "cell_type": "code",
   "execution_count": null,
   "metadata": {},
   "outputs": [
    {
     "name": "stdout",
     "output_type": "stream",
     "text": [
      "Calculating correlation matrix at filling 35/70... Done\n",
      "Block L = 1, S = 0.69\n",
      "Block L = 2, S = 0.94\n",
      "Block L = 3, S = 1.07\n",
      "Block L = 4, S = 1.14\n",
      "Block L = 5, S = 1.20\n",
      "Block L = 6, S = 1.24\n",
      "Block L = 7, S = 1.28\n",
      "Block L = 8, S = 1.31\n",
      "Block L = 9, S = 1.33\n",
      "Block L = 10, S = 1.36\n",
      "Block L = 11, S = 1.38\n",
      "Block L = 12, S = 1.39\n",
      "Block L = 13, S = 1.41\n",
      "Block L = 14, S = 1.42\n",
      "Block L = 15, S = 1.44\n",
      "Block L = 16, S = 1.45\n",
      "Block L = 17, S = 1.46\n",
      "Block L = 18, S = 1.47\n",
      "Block L = 19, S = 1.48\n",
      "Block L = 20, S = 1.48\n",
      "Block L = 21, S = 1.49\n",
      "Block L = 22, S = 1.50\n",
      "Block L = 23, S = 1.50\n",
      "Block L = 24, S = 1.51\n",
      "Block L = 25, S = 1.51\n",
      "Block L = 26, S = 1.52\n",
      "Block L = 27, S = 1.52\n",
      "Block L = 28, S = 1.52\n",
      "Block L = 29, S = 1.53\n",
      "Block L = 30, S = 1.53\n",
      "Block L = 31, S = 1.53\n",
      "Block L = 32, S = 1.53\n",
      "Block L = 33, S = 1.53\n",
      "Block L = 34, S = 1.53\n",
      "Block L = 35, S = 1.54\n",
      "Block L = 36, S = 1.53\n",
      "Block L = 37, S = 1.53\n",
      "Block L = 38, S = 1.53\n",
      "Block L = 39, S = 1.53\n",
      "Block L = 40, S = 1.53\n",
      "Block L = 41, S = 1.53\n",
      "Block L = 42, S = 1.52\n",
      "Block L = 43, S = 1.52\n",
      "Block L = 44, S = 1.52\n",
      "Block L = 45, S = 1.51\n",
      "Block L = 46, S = 1.51\n",
      "Block L = 47, S = 1.50\n",
      "Block L = 48, S = 1.50\n",
      "Block L = 49, S = 1.49\n",
      "Block L = 50, S = 1.48\n",
      "Block L = 51, S = 1.48\n",
      "Block L = 52, S = 1.47\n",
      "Block L = 53, S = 1.46\n",
      "Block L = 54, S = 1.45\n",
      "Block L = 55, S = 1.44\n",
      "Block L = 56, S = 1.42\n",
      "Block L = 57, S = 1.41\n",
      "Block L = 58, S = 1.39\n",
      "Block L = 59, S = 1.38\n",
      "Block L = 60, S = 1.36\n",
      "Block L = 61, S = 1.33\n",
      "Block L = 62, S = 1.31\n",
      "Block L = 63, S = 1.28\n",
      "Block L = 64, S = 1.24\n",
      "Block L = 65, S = 1.20\n",
      "Block L = 66, S = 1.14\n",
      "Block L = 67, S = 1.07\n",
      "Block L = 68, S = 0.94\n",
      "Block L = 69, S = 0.69\n"
     ]
    },
    {
     "data": {
      "text/plain": [
       "<matplotlib.legend.Legend at 0x2ab53a35910>"
      ]
     },
     "execution_count": 14,
     "metadata": {},
     "output_type": "execute_result"
    },
    {
     "data": {
      "image/png": "[encoded data removed]",
      "text/plain": [
       "<Figure size 640x480 with 1 Axes>"
      ]
     },
     "metadata": {},
     "output_type": "display_data"
    }
   ],
   "source": [
    "# Brief test of inhomogeneous XX chain calculations\n",
    "\n",
    "N = 70\n",
    "L = np.arange(N+1)\n",
    "q = .5\n",
    "J = np.sqrt(q*(1 - q)*(L[:-2] + 1)*(N - L[:-2] - 1))\n",
    "h = q*(N - 1) + (1 - 2*q)*L[:-1]\n",
    "Krawtchouk = SpinChain(N, J, h)\n",
    "\n",
    "a = .5\n",
    "cp = cp_homogeneous(a)\n",
    "M = N//2\n",
    "Krawtchouk.set_filling(M)\n",
    "\n",
    "S_num = Krawtchouk.renyi_entropy(a, L)\n",
    "S_asm = asymptotic_entropy(cp, a, N, L, M)\n",
    "\n",
    "plt.plot(L / N, S_num, 'x', label='Numerical')\n",
    "plt.plot(L / N, S_asm, label='Asymptotic')\n",
    "plt.title(rf'Krawtchouk chain entropy, N={N}, $\\alpha$={a:.2e}'.rstrip('e+00'))\n",
    "plt.xlabel('$\\lambda$')\n",
    "plt.ylabel(r'$S_\\alpha$')\n",
    "plt.legend()"
   ]
  },
  {
   "cell_type": "markdown",
   "metadata": {},
   "source": [
    "### References\n",
    "\n",
    "[1] Latorre, J., & Riera, A. (2009). A short review on entanglement in quantum spin systems. *Journal of Physics A: Mathematical and Theoretical, 42(50), 504002*. Retrieved from https://arxiv.org/abs/0906.1499\n",
    "\n",
    "[2] Finkel, F., & González-López, A. (2020). Inhomogeneous XX spin chains and quasi-exactly solvable models. *Journal of Statistical Mechanics: Theory and Experiment, 2020(9), 093105*. Retrieved from https://arxiv.org/abs/2007.00369\n",
    "\n",
    "[3] Finkel, F., & González-López, A. (2021). Entanglement entropy of inhomogeneous XX spin chains with algebraic interactions. *Journal of High Energy Physics, 2021(12)*. Retrieved from https://arxiv.org/abs/2107.12200"
   ]
  }
 ],
 "metadata": {
  "kernelspec": {
   "display_name": "venv",
   "language": "python",
   "name": "python3"
  },
  "language_info": {
   "codemirror_mode": {
    "name": "ipython",
    "version": 3
   },
   "file_extension": ".py",
   "mimetype": "text/x-python",
   "name": "python",
   "nbconvert_exporter": "python",
   "pygments_lexer": "ipython3",
   "version": "3.11.0"
  }
 },
 "nbformat": 4,
 "nbformat_minor": 2
}
