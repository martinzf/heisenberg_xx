{
 "cells": [
  {
   "cell_type": "code",
   "execution_count": 16,
   "metadata": {},
   "outputs": [],
   "source": [
    "import numpy as np\n",
    "import cirq\n",
    "import IPython.display as IPy"
   ]
  },
  {
   "cell_type": "markdown",
   "metadata": {},
   "source": [
    "### 1. Heisenberg XX model\n",
    "\n",
    "The Heisenberg model represents a system of $N$ particles on a line interacting with their nearest neighbours via spin coupling $J_n$, as well as with an external magnetic field $h_n$. With free boundary conditions, it has a Hamiltonian of the kind:\n",
    "\n",
    "$$\n",
    "H=\\frac{1}{2}\\sum\\limits_{n=0}^{N-2}\\left(J^x_n\\sigma^x_n\\sigma^x_{n+1}+J^y_n\\sigma^y_n\\sigma^y_{n+1}+J^z_n\\sigma^z_n\\sigma^z_{n+1} \\right)+\n",
    "\\frac{1}{2}\\sum\\limits_{n=0}^{N-1} h_n\\left(1-\\sigma^z_n\\right)\n",
    "$$\n",
    "\n",
    "Where $\\sigma^\\mu_n $ ($\\mu=x,y,z$) are Pauli operators acting on each particle. This notebook covers the Heisenberg XX model, in which $J^x_n=J^y_n=J_n$ and $J^z_n=0$. In other words:\n",
    "\n",
    "$$\n",
    "H=\\frac{1}{2}\\sum\\limits_{n=0}^{N-2}J_n\\left(\\sigma^x_n\\sigma^x_{n+1}+\\sigma^y_n\\sigma^y_{n+1}\\right)+\n",
    "\\frac{1}{2}\\sum\\limits_{n=0}^{N-1} h_n\\left(1-\\sigma^z_n\\right)\n",
    "$$"
   ]
  },
  {
   "cell_type": "code",
   "execution_count": 17,
   "metadata": {},
   "outputs": [
    {
     "name": "stdout",
     "output_type": "stream",
     "text": [
      "0.500*X(q(0))*X(q(1))+0.500*Y(q(0))*Y(q(1))-0.500*Z(q(0))-0.500*Z(q(1))+1.000*I\n"
     ]
    }
   ],
   "source": [
    "def Hamiltonian(N, J, h):\n",
    "    q = cirq.LineQubit.range(N)\n",
    "    x_string = [cirq.PauliString(J[n], cirq.X(q[n])*cirq.X(q[n+1])) for n in range(N-1)]\n",
    "    y_string = [cirq.PauliString(J[n], cirq.Y(q[n])*cirq.Y(q[n+1])) for n in range(N-1)]\n",
    "    z_string = [cirq.PauliString(h[n], cirq.Z(q[n])) for n in range(N)]\n",
    "    spinspin = .5 * (cirq.PauliSum.from_pauli_strings(x_string) + cirq.PauliSum.from_pauli_strings(y_string))\n",
    "    magfield = .5 * (np.sum(h) - cirq.PauliSum.from_pauli_strings(z_string))\n",
    "    return spinspin + magfield\n",
    "\n",
    "# Example/test\n",
    "N = 2\n",
    "print(Hamiltonian(N, np.ones(N-1), np.ones(N)))"
   ]
  },
  {
   "cell_type": "markdown",
   "metadata": {},
   "source": [
    "### 2. Jordan-Wigner Transformation\n",
    "\n",
    "If we take the ladder operators of particle $n$, $S^{\\pm}_n = (\\sigma^x_n\\pm i\\sigma^y_n)/2 $, we may see that $\\{S^+_n, S^-_n\\}=I $, $\\{S^+_n, S^+_n\\}=\\{S^-_n, S^-_n\\}=0 $, which is reminiscent of a fermion's canonical anticommutation relations $\\{a^\\dagger_n, a_n\\}=I $, $\\{a^\\dagger_n, a^\\dagger_n\\}=\\{a_n, a_n\\}=0$ (with $a^\\dagger$, $a$ creation and annihilation operators). Motivated by this fact, we may try to translate our system of interacting particles to a system of free fermions. Notice that the degrees of freedom remain the same: at each site we have spin up/down or a particle/vacuum.\n",
    "\n",
    "Since ladder operators at different sites commute whereas fermionic operators should anticommute, it turns out the transformation is not so trivial [1]:\n",
    "\n",
    "$$\n",
    "\\begin{aligned}\n",
    "a_n &= \\left(\\prod\\limits_{k=0}^{n-1}\\sigma^z_k\\right)S^+_n, &\n",
    "a^\\dagger_n &= \\left(\\prod\\limits_{k=0}^{n-1}\\sigma^z_k\\right)S^-_n\n",
    "\\end{aligned}\n",
    "$$"
   ]
  },
  {
   "cell_type": "code",
   "execution_count": 18,
   "metadata": {},
   "outputs": [
    {
     "name": "stdout",
     "output_type": "stream",
     "text": [
      "0.500*Z(q(0))*Z(q(1))*X(q(2))+0.500j*Z(q(0))*Z(q(1))*Y(q(2))\n"
     ]
    }
   ],
   "source": [
    "def a(n):\n",
    "    q = cirq.LineQubit.range(n+1)\n",
    "    Z = cirq.DensePauliString('Z'*n).on(*q[:n])\n",
    "    Sp = .5 * (cirq.X(q[n]) + 1j * cirq.Y(q[n]))\n",
    "    return Z * Sp\n",
    "\n",
    "def ad(n):\n",
    "    q = cirq.LineQubit.range(n+1)\n",
    "    Z = cirq.DensePauliString('Z'*n).on(*q[:n])\n",
    "    Sm = .5 * (cirq.X(q[n]) - 1j * cirq.Y(q[n]))\n",
    "    return Z * Sm\n",
    "\n",
    "# Example/test\n",
    "print(a(2))"
   ]
  },
  {
   "cell_type": "markdown",
   "metadata": {},
   "source": [
    "However it is easy to prove that it works. Without loss of generality take $n>m$:\n",
    "\n",
    "$$\n",
    "\\{a_n, a_m\\}=\\left(\\prod\\limits_{k=0}^{n-1}\\sigma^z_k\\right)S^+_n\\left(\\prod\\limits_{k=0}^{m-1}\\sigma^z_k\\right)S^+_m+\n",
    "\\left(\\prod\\limits_{k=0}^{m-1}\\sigma^z_k\\right)S^+_m\\left(\\prod\\limits_{k=0}^{n-1}\\sigma^z_k\\right)S^+_n\n",
    "=\n",
    "$$\n",
    "\n",
    "$$\n",
    "=S^+_n\\left(\\prod\\limits_{k=0}^{m-1}\\sigma^z_k\\right)\\left\\{S^+_m,\\left(\\prod\\limits_{k=0}^{n-1}\\sigma^z_k\\right)\\right\\}=\n",
    "S^+_n\\left(\\prod\\limits_{k=0}^{m-1}\\sigma^z_k\\right)\\left(\\prod\\limits_{k\\neq m}^{n-1}\\sigma^z_k\\right)\\{S^+_m,\\sigma^z_m\\}=0\n",
    "$$\n",
    "\n",
    "Notice that this calculation is essentially the same if $m>n$ or if we take the adjoint of either operator, so we have proven:\n",
    "\n",
    "$$\n",
    "\\boxed{\n",
    "\\begin{aligned}\n",
    "\\{a^\\dagger_n, a_m\\}&= \\delta_{nm}, & \\{a_n, a_m\\}&= 0\n",
    "\\end{aligned}\n",
    "}\n",
    "$$"
   ]
  },
  {
   "cell_type": "code",
   "execution_count": 19,
   "metadata": {},
   "outputs": [
    {
     "data": {
      "text/latex": [
       "$\\displaystyle \\{a^\\dagger_n, a_m\\}=$"
      ],
      "text/plain": [
       "<IPython.core.display.Math object>"
      ]
     },
     "metadata": {},
     "output_type": "display_data"
    },
    {
     "name": "stdout",
     "output_type": "stream",
     "text": [
      "[['1' '0' '0' '0' '0']\n",
      " ['0' '1' '0' '0' '0']\n",
      " ['0' '0' '1' '0' '0']\n",
      " ['0' '0' '0' '1' '0']\n",
      " ['0' '0' '0' '0' '1']]\n"
     ]
    },
    {
     "data": {
      "text/latex": [
       "$\\displaystyle \\{a_n, a_m\\}=$"
      ],
      "text/plain": [
       "<IPython.core.display.Math object>"
      ]
     },
     "metadata": {},
     "output_type": "display_data"
    },
    {
     "name": "stdout",
     "output_type": "stream",
     "text": [
      "[['0' '0' '0' '0' '0']\n",
      " ['0' '0' '0' '0' '0']\n",
      " ['0' '0' '0' '0' '0']\n",
      " ['0' '0' '0' '0' '0']\n",
      " ['0' '0' '0' '0' '0']]\n"
     ]
    }
   ],
   "source": [
    "# Test that the operators satisfy the canonical anticommutation relations\n",
    "N = 5\n",
    "CAR1, CAR2 = np.empty((N, N), dtype='str'), np.empty((N, N), dtype='str')\n",
    "\n",
    "for n in range(N):\n",
    "    for m in range(N):\n",
    "        CAR1[n, m] = ad(n)*a(m) + a(m)*ad(n)\n",
    "        CAR2[n, m] = a(n)*a(m) + a(m)*a(n)\n",
    "\n",
    "IPy.display(IPy.Math(r'\\{a^\\dagger_n, a_m\\}='))\n",
    "print(CAR1)\n",
    "IPy.display(IPy.Math(r'\\{a_n, a_m\\}='))\n",
    "print(CAR2)"
   ]
  },
  {
   "cell_type": "markdown",
   "metadata": {},
   "source": [
    "We now want to express our Hamiltonian in terms of fermionic operators. We first start with the $z$ terms\n",
    "\n",
    "$$\n",
    "N_n=a^\\dagger_n a_n =\\left(\\prod\\limits_{k=0}^{n-1}\\sigma^z_k\\right)S^-_n\\left(\\prod\\limits_{k=0}^{n-1}\\sigma^z_k\\right)S^+_n=S^-_nS^+_n=\\frac{1}{2}\\left(1-\\sigma^z_n\\right)\n",
    "$$\n",
    "\n",
    "and then continue with the $x$, $y$ terms\n",
    "\n",
    "$$\n",
    "\\begin{aligned}\n",
    "\\sigma^x_n &= S^-_n + S^+_n, &\n",
    "\\sigma^y_n &= i(S^-_n - S^+_n)\n",
    "\\end{aligned}\n",
    "$$\n",
    "\n",
    "$$\n",
    "\\frac{1}{2}(\\sigma^x_n\\sigma^x_{n+1}+\\sigma^y_n\\sigma^y_{n+1}) = S^-_nS^+_{n+1}+S^+_nS^-_{n+1}\n",
    "$$\n",
    "\n",
    "noting\n",
    "\n",
    "$$\n",
    "S^\\pm_n\\left(\\prod\\limits_{k=0}^{n}\\sigma^z_k\\right)=\n",
    "\\left(\\prod\\limits_{k=0}^{n-1}\\sigma^z_k\\right)(S^\\pm_n\\sigma^z_n)=\n",
    "\\mp\\left(\\prod\\limits_{k=0}^{n-1}\\sigma^z_k\\right) S^\\pm_n\n",
    "$$\n",
    "\n",
    "$$\n",
    "a^\\dagger_n a_{n+1} = \\left(\\prod\\limits_{k=0}^{n-1}\\sigma^z_k\\right)S^-_n\\left(\\prod\\limits_{k=0}^{n}\\sigma^z_k\\right)S^+_{n+1} = S^-_n S^+_{n+1}\n",
    "$$\n",
    "\n",
    "So finally the fermionic Hamiltonian reads:\n",
    "\n",
    "$$\n",
    "\\boxed{\n",
    "H=\\sum\\limits_{n=0}^{N-2}J_n\\left(a^\\dagger_n a_{n+1} + a^\\dagger_{n+1}a_n\\right)+\n",
    "\\sum\\limits_{n=0}^{N-1} h_n a^\\dagger_n a_n\n",
    "}\n",
    "$$\n",
    "\n",
    "An interesting observation [2] is that the total number of fermions $\\mathcal{N}=\\sum\\limits_{n=0}^{N-1}a^\\dagger_n a_n$ commutes with the Hamiltonian, therefore the number of fermions is an integral of motion. Fermionic states are excitations $a^\\dagger_{n_0}...a^\\dagger_{n_k}|0\\rangle$ of the vacuum state $|0\\rangle$, which corresponds to the state with all spins up ($|0\\rangle^{\\otimes N}$) given the above definition of fermionic operators."
   ]
  },
  {
   "cell_type": "markdown",
   "metadata": {},
   "source": [
    "### 3. Diagonalisation\n",
    "\n",
    "What do we gain by recasting the Hamiltonian in terms of $a^\\dagger_n$, $a_n$? By working in the subspace of single-particle states $\\mathcal{H}^1$, with basis $|n\\rangle=a^\\dagger_n|0\\rangle$, we find the matrix $H^1$ of the Hamiltonian is tridiagonal [2]:\n",
    "\n",
    "$$\n",
    "H^1_{nm}=\\langle n|H|m \\rangle = J_n\\delta_{n+1,m}+J_{n-1}\\delta_{n-1,m}+h_n\\delta_{nm}\n",
    "$$\n",
    "\n",
    "$$\n",
    "(H^1)= \n",
    "\\begin{pmatrix}\n",
    "h_0    & J_0    & 0      & 0       & \\cdots  & 0       \\\\\n",
    "J_0    & h_1    & J_1    & 0       & \\cdots  & 0       \\\\\n",
    "0      & J_1    & h_2    & J_2     & \\cdots  & 0       \\\\\n",
    "0      & 0      & J_2    & \\ddots  & \\ddots  & \\vdots  \\\\\n",
    "\\vdots & \\vdots & \\vdots & \\ddots  & \\ddots  & J_{N-2} \\\\\n",
    "0      & 0      & 0      & \\cdots  & J_{N-2} & h_{N-1}\n",
    "\\end{pmatrix}\n",
    "$$\n",
    "\n",
    "This matrix brings us closer to diagonalising $H$ because if we define $\\mathbf{a}=(a_0, a_1, a_2, ..., a_{N-1})^\\mathrm{T}$:\n",
    "\n",
    "$$\n",
    "H = \\mathbf{a}^\\dagger H^1 \\mathbf{a}\n",
    "$$"
   ]
  },
  {
   "cell_type": "code",
   "execution_count": 20,
   "metadata": {},
   "outputs": [
    {
     "name": "stdout",
     "output_type": "stream",
     "text": [
      "J = [ 1.  4.  7. 10.]\n",
      "h = [2. 2. 2. 2. 2.]\n",
      "H1 =\n",
      "[[ 2.  1.  0.  0.  0.]\n",
      " [ 1.  2.  4.  0.  0.]\n",
      " [ 0.  4.  2.  7.  0.]\n",
      " [ 0.  0.  7.  2. 10.]\n",
      " [ 0.  0.  0. 10.  2.]]\n"
     ]
    }
   ],
   "source": [
    "# Test tridiagonal structure\n",
    "N = 5\n",
    "J = np.linspace(1, 10, N-1)\n",
    "h = 2 * np.ones(N)\n",
    "H1 = np.empty((N, N))\n",
    "zeroket = np.zeros((2**N))\n",
    "zeroket[0] = 1\n",
    "for n in range(N):\n",
    "    for m in range(N):\n",
    "        mat = (a(n) * Hamiltonian(N, J, h) * ad(m)).matrix()\n",
    "        H1nm = zeroket @ mat @ zeroket\n",
    "        H1nm = np.real_if_close(H1nm) \n",
    "        H1[n, m] = H1nm\n",
    "\n",
    "print(f'J = {J}')\n",
    "print(f'h = {h}')\n",
    "print('H1 =')\n",
    "print(H1)"
   ]
  },
  {
   "cell_type": "markdown",
   "metadata": {},
   "source": [
    "Given that the matrix $H^1$ is real symmetric, it is orthogonally diagonalisable:\n",
    "\n",
    "$$\n",
    "\\Phi^\\mathrm{T}H^1\\Phi = \\mathrm{diag}(\\varepsilon_0, \\varepsilon_1, ..., \\varepsilon_{N-1}) \n",
    "$$\n",
    "\n",
    "We can therefore define a new set of operators $\\mathbf{\\tilde{a}}=(\\tilde{a}_0, \\tilde{a}_1, \\tilde{a}_2, ..., \\tilde{a}_{N-1})^\\mathrm{T}=\\Phi^\\mathrm{T}\\mathbf{a}$ in order to diagonalise $H$. We may check that these operators still satisfy the canonical anticommutation relations, and therefore are fermionic operators, on account of the fact that $\\tilde{a}_n=\\sum\\limits_{j=0}^{N-1}\\Phi_{jn}a_j$ with $\\Phi$ an orthogonal matrix.\n",
    "\n",
    "$$\n",
    "\\{\\tilde{a}^\\dagger_n, \\tilde{a}_m\\} = \\sum\\limits_{j=0}^{N-1}\\sum\\limits_{k=0}^{N-1}\\Phi_{jn}\\Phi_{km}\\{a^\\dagger_j, a_k\\}=\n",
    "\\sum\\limits_{j=0}^{N-1}\\sum\\limits_{k=0}^{N-1}\\Phi_{jn}\\Phi_{km}\\delta_{jk}=\\sum\\limits_{j=0}^{N-1}\\Phi_{jn}\\Phi_{jm}=\\delta_{nm}\n",
    "$$\n",
    "\n",
    "$$\n",
    "\\{\\tilde{a}_n, \\tilde{a}_m\\} = \\sum\\limits_{j=0}^{N-1}\\sum\\limits_{k=0}^{N-1}\\Phi_{jn}\\Phi_{km}\\{a_j, a_k\\}=0\n",
    "$$\n",
    "\n",
    "Finally, the Hamiltonian is diagonal in the basis in which we excite fermions at sites $n_0, n_1, ..., n_k$, i.e.\n",
    "\n",
    "$$\n",
    "H = \n",
    "\\sum\\limits_{n=0}^{N-1}\\varepsilon_n\\tilde{a}_n^\\dagger\\tilde{a}_n = \n",
    "\\sum\\limits_{n=0}^{N-1}\\varepsilon_n\\tilde{N}_n \n",
    "$$\n",
    "\n",
    "$$\n",
    "\\boxed{\n",
    "H|n_0, n_1, ..., n_k\\rangle = E(n_0, n_1, ..., n_k)|n_0, n_1, ..., n_k\\rangle\n",
    "}\n",
    "$$\n",
    "\n",
    "where\n",
    "\n",
    "$$\n",
    "\\boxed{\n",
    "\\begin{aligned}\n",
    "|n_0, n_1, ..., n_k\\rangle &= \\tilde{a}^\\dagger_{n_0}\\tilde{a}^\\dagger_{n_1}...\\tilde{a}^\\dagger_{n_k}|0\\rangle, &\n",
    "E(n_0, n_1, ..., n_k) = \\sum\\limits_{j=0}^k \\varepsilon_{n_j}\n",
    "\\end{aligned}\n",
    "}\n",
    "$$"
   ]
  },
  {
   "cell_type": "code",
   "execution_count": 21,
   "metadata": {},
   "outputs": [
    {
     "name": "stdout",
     "output_type": "stream",
     "text": [
      "Spectrum of H1: [-10.43759596  -1.36247032   2.           5.36247032  14.43759596]\n",
      "Ground state energy: -11.800066286737719\n"
     ]
    }
   ],
   "source": [
    "# Putting into practice\n",
    "N = 5\n",
    "J = np.linspace(1, 10, N-1)\n",
    "h = 2 * np.ones(N)\n",
    "H1 = np.diag(h) + np.diag(J, 1) + np.diag(J, -1)\n",
    "E = np.linalg.eigh(H1)[0]\n",
    "print(f'Spectrum of H1: {E}')\n",
    "# The ground state's Fermi energy is the largest negative one\n",
    "print(f'Ground state energy: {np.sum(E[E<0])}')"
   ]
  },
  {
   "cell_type": "code",
   "execution_count": 22,
   "metadata": {},
   "outputs": [
    {
     "name": "stdout",
     "output_type": "stream",
     "text": [
      "Spectrum of H: [-11.80006629 -10.43759596  -9.80006629  -8.43759596  -6.43759596\n",
      "  -5.07512564  -4.43759596  -3.07512564  -1.36247032   0.\n",
      "   0.63752968   2.           2.63752968   4.           4.\n",
      "   4.63752968   5.36247032   6.           6.           7.36247032\n",
      "   8.           9.36247032  10.          11.36247032  13.07512564\n",
      "  14.43759596  15.07512564  16.43759596  18.43759596  19.80006629\n",
      "  20.43759596  21.80006629]\n",
      "Ground state energy: -11.800066286737724\n"
     ]
    }
   ],
   "source": [
    "# Do we obtain the same result via direct diagonalisation?\n",
    "H = Hamiltonian(N, J, h).matrix()\n",
    "E = np.linalg.eigh(H)[0]\n",
    "print(f'Spectrum of H: {E}')\n",
    "print(f'Ground state energy: {E[0]}')"
   ]
  },
  {
   "cell_type": "markdown",
   "metadata": {},
   "source": [
    "### 4. Orthogonal polynomials\n",
    "\n",
    "According to ref. [2], (finite) families of monic (leading coefficient $=1$), orthogonal polynomials $\\{P_n(x)\\}_{n=0}^N$ satisfy three-term recursion relations of the form:\n",
    "\n",
    "$$\n",
    "xP_n = P_{n+1}+b_n P_n + a_n P_{n-1} \n",
    "$$\n",
    "\n",
    "with $a_0=0$, $P_0=1$, and we may assume $a_n>0$ for $n>0$, $b_n\\in\\mathbb{R}$. By Favard's theorem $\\exists$ a positive definite linear functional $\\mathcal{L}$ (unique if $\\mathcal{L}(1)=1$) wrt which the $P_n$ are mutually orthogonal. Furthermore, the roots of each $P_n$ are real and simple. Denoting by $\\varepsilon_0<...<\\varepsilon_{N-1}$ the roots of the last polynomial $P_N$, ref. [2] defines\n",
    "\n",
    "$$\n",
    "\\mathcal{L}\\equiv\\sum\\limits_{k=0}^{N-1}w_k\\delta(x-\\varepsilon_k)\n",
    "$$\n",
    "\n",
    "for some weights $w_k$. Therefore the scalar product of polynomials would be\n",
    "\n",
    "$$\n",
    "\\langle P_n, P_m\\rangle = \\mathcal{L}(P_n P_m) = \n",
    "\\sum\\limits_{k=0}^{N-1}w_k P_n(\\varepsilon_k) P_m(\\varepsilon_k) = 0 \\quad \\forall\\ n\\neq m\n",
    "$$\n",
    "\n",
    "Denoting by $\\gamma_n$ the squared norm of $P_n$ and setting $\\gamma_0=1$:\n",
    "\n",
    "$$\n",
    "\\begin{cases}\n",
    "\\langle xP_n, P_{n-1} \\rangle = \\langle P_n, xP_{n-1} \\rangle =\n",
    "\\langle P_n, P_n+b_{n-1} P_{n-1} + a_{n-1} P_{n-2} \\rangle = \\gamma_n \\\\[1em]\n",
    "\\langle xP_n, P_{n-1} \\rangle = \n",
    "\\langle P_{n+1} + b_n P_n + a_n P_{n-1}, P_{n-1}\\rangle =\n",
    "a_n\\gamma_{n-1}\n",
    "\\end{cases}\n",
    "$$\n",
    "\n",
    "$$\n",
    "\\boxed{\n",
    "\\gamma_n = a_n \\gamma_{n-1} = a_n a_{n-1} ... \\gamma_0 = \\prod\\limits_{k=1}^n a_k\n",
    "}\n",
    "$$\n",
    "\n",
    "Therefore $\\langle P_n, P_m\\rangle = \\delta_{nm}\\prod\\limits_{k=1}^n a_k$. To compute the weights, we calculate the scalar product $\\langle \\pi_k, P_{N-1}\\rangle$, where\n",
    "\n",
    "$$\n",
    "\\pi_k(x) = \\frac{P_N(x)}{x-\\varepsilon_k} = \\prod\\limits_{n\\neq k}^{N-1}(x-\\varepsilon_n)\n",
    "$$\n",
    "\n",
    "Since $\\pi_k$ is a polynomial of degree $N-1\\ \\Rightarrow\\ \\pi_k\\in\\mathrm{span}\\{P_{N-1}, P_{N-2}, ..., P_0 \\}$. Given that $\\pi_k$ is also a monic polynomial, it must be the case that $\\pi_k = P_{N-1} + \\sigma_k $, $\\sigma_k\\in\\mathrm{span}\\{P_{N-2}, ..., P_0 \\}$:\n",
    "\n",
    "$$\n",
    "\\langle \\pi_k, P_{N-1}\\rangle = \\gamma_{N-1} \n",
    "$$\n",
    "\n",
    "On the other hand, we have that\n",
    "\n",
    "$$\n",
    "\\langle \\pi_k, P_{N-1}\\rangle = \\sum\\limits_{m=0}^{N-1} w_m P_{N-1}(\\varepsilon_m) \\prod\\limits_{n\\neq k}^{N-1} (\\varepsilon_m-\\varepsilon_n) =\n",
    "w_k P_{N-1}(\\varepsilon_k) \\prod\\limits_{n\\neq k}^{N-1} (\\varepsilon_k-\\varepsilon_n) \n",
    "$$\n",
    "\n",
    "$$\n",
    "P'_N(\\varepsilon_k) = \\sum\\limits_{m=0}^{N-1}\\prod\\limits_{n\\neq m}^{N-1}(x-\\varepsilon_n)\\biggr\\vert_{x=\\varepsilon_k} = \\prod\\limits_{n\\neq k}^{N-1} (\\varepsilon_k-\\varepsilon_n)  \n",
    "$$\n",
    "\n",
    "So finally \n",
    "\n",
    "$$\n",
    "\\langle \\pi_k, P_{N-1}\\rangle = \\gamma_{N-1} = w_k P_{N-1}(\\varepsilon_k)P'_N(\\varepsilon_k)\n",
    "$$\n",
    "\n",
    "$$\n",
    "\\boxed{\n",
    "w_k = \\frac{\\prod\\limits_{n=1}^{N-1}a_n}{P_{N-1}(\\varepsilon_k)P'_N(\\varepsilon_k)}\n",
    "}\n",
    "$$"
   ]
  },
  {
   "cell_type": "markdown",
   "metadata": {},
   "source": [
    "#### Connection with tridiagonal matrix\n",
    "\n",
    "Recall that from Section 3\n",
    "\n",
    "$$\n",
    "H^1_{nm} = J_n\\delta_{n+1,m}+J_{n-1}\\delta_{n-1,m}+h_n\\delta_{nm}\n",
    "$$\n",
    "\n",
    "$$\n",
    "\\Phi^T H^1 \\Phi = E \\quad\\Rightarrow\\quad H^1 \\Phi = \\Phi E \\quad\\Rightarrow\\quad \n",
    "\\sum\\limits_{m=0}^{N-1}H^1_{nm}\\Phi_{mk} = \\varepsilon_k\\Phi_{nk} \n",
    "$$\n",
    "\n",
    "Therefore, if we define $\\Phi_n(\\varepsilon_k)\\equiv\\Phi_{nk}$:\n",
    "\n",
    "$$\n",
    "\\varepsilon_k\\Phi_n(\\varepsilon_k) = \n",
    "J_n\\Phi_{n+1}(\\varepsilon_k)+h_n\\Phi_n(\\varepsilon_k)+J_{n-1}\\Phi_{n-1}(\\varepsilon_k)\n",
    "$$\n",
    "\n",
    "Ref. [2] then logically identifies, according to the recurrence relation above,\n",
    "\n",
    "$$\n",
    "\\Phi_n(\\varepsilon_k) = \\sqrt{\\frac{w_k}{\\gamma_n}}P_n(\\varepsilon_k)\n",
    "$$\n",
    "\n",
    "$$\n",
    "\\begin{aligned}\n",
    "J_n &= \\sqrt{a_{n+1}}, & h_n &= b_n\n",
    "\\end{aligned}\n",
    "$$"
   ]
  },
  {
   "cell_type": "code",
   "execution_count": 23,
   "metadata": {},
   "outputs": [
    {
     "name": "stdout",
     "output_type": "stream",
     "text": [
      "Roots of PN: [-10.43759596  -1.36247032   2.           5.36247032  14.43759596]\n",
      "Spectrum of H1: [-10.43759596  -1.36247032   2.           5.36247032  14.43759596]\n"
     ]
    }
   ],
   "source": [
    "# Let's try to create an orthogonal polynomial system\n",
    "def OPS(N, a, b):\n",
    "    P = np.zeros((N+1, N+1))\n",
    "    P[0, N] = 1\n",
    "    P[1, -2:] = [1, - b[0]]\n",
    "    for n in range(1, N):\n",
    "        P[n+1] = np.roll(P[n], -1) - b[n] * P[n] - a[n-1] * P[n-1]\n",
    "    return P\n",
    "\n",
    "# Example/test\n",
    "N = 5\n",
    "J = np.linspace(1, 10, N-1)\n",
    "h = 2 * np.ones(N)\n",
    "P = OPS(N, J**2, h)\n",
    "r = np.roots(P[N])\n",
    "print(f'Roots of PN: {np.sort(r)}')\n",
    "\n",
    "H1 = np.diag(h) + np.diag(J, 1) + np.diag(J, -1)\n",
    "diag = np.linalg.eigh(H1)\n",
    "print(f'Spectrum of H1: {diag[0]}')"
   ]
  },
  {
   "cell_type": "code",
   "execution_count": 24,
   "metadata": {},
   "outputs": [
    {
     "name": "stdout",
     "output_type": "stream",
     "text": [
      "Orthogonal polynomial diagonalisation: \n",
      "[[-10.438   0.     -0.     -0.     -0.   ]\n",
      " [  0.     -1.362   0.      0.      0.   ]\n",
      " [  0.     -0.      2.      0.      0.   ]\n",
      " [ -0.      0.      0.      5.362  -0.   ]\n",
      " [ -0.      0.      0.     -0.     14.438]]\n"
     ]
    }
   ],
   "source": [
    "# Check diagonalisation\n",
    "def diagonalise(N, J, h):\n",
    "    P = OPS(N, J**2, h)\n",
    "    E = np.sort(np.roots(P[N]))\n",
    "    gamma = np.cumprod(J)**2\n",
    "    gamma = np.append(1, gamma)\n",
    "    denominator = np.polyval(P[N-1], E) * np.polyval(np.polyder(P[N]), E)\n",
    "    w = np.prod(J)**2 / denominator\n",
    "    Phi = np.empty((N, N))\n",
    "    for n in range(N):\n",
    "        Phi[n] = np.sqrt(w / gamma[n]) * np.polyval(P[n], E)\n",
    "    return Phi\n",
    "\n",
    "Phi = diagonalise(N, J, h)\n",
    "E = Phi.T @ H1 @ Phi\n",
    "print('Orthogonal polynomial diagonalisation: ')\n",
    "print(np.around(E, 3))"
   ]
  },
  {
   "cell_type": "markdown",
   "metadata": {},
   "source": [
    "### References\n",
    "\n",
    "[1] Latorre, J., & Riera, A. (2009). A short review on entanglement in quantum spin systems. *Journal of Physics A: Mathematical and Theoretical, 42(50), 504002*. Retrieved from https://arxiv.org/abs/0906.1499\n",
    "\n",
    "[2] Finkel, F., & González-López, A. (2020). Inhomogeneous XX spin chains and quasi-exactly solvable models. *Journal of Statistical Mechanics: Theory and Experiment, 2020(9), 093105*. Retrieved from https://arxiv.org/abs/2007.00369\n",
    "\n",
    "[3] Finkel, F., & González-López, A. (2021). Entanglement entropy of inhomogeneous XX spin chains with algebraic interactions. *Journal of High Energy Physics, 2021(12)*. Retrieved from https://arxiv.org/abs/2107.12200"
   ]
  }
 ],
 "metadata": {
  "kernelspec": {
   "display_name": "venv",
   "language": "python",
   "name": "python3"
  },
  "language_info": {
   "codemirror_mode": {
    "name": "ipython",
    "version": 3
   },
   "file_extension": ".py",
   "mimetype": "text/x-python",
   "name": "python",
   "nbconvert_exporter": "python",
   "pygments_lexer": "ipython3",
   "version": "3.11.0"
  }
 },
 "nbformat": 4,
 "nbformat_minor": 2
}
